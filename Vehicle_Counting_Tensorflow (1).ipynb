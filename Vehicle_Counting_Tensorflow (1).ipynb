{
  "nbformat": 4,
  "nbformat_minor": 0,
  "metadata": {
    "colab": {
      "name": "Vehicle Counting Tensorflow",
      "provenance": [],
      "collapsed_sections": []
    },
    "kernelspec": {
      "name": "python3",
      "display_name": "Python 3"
    },
    "language_info": {
      "name": "python"
    },
    "accelerator": "GPU"
  },
  "cells": [
    {
      "cell_type": "code",
      "metadata": {
        "colab": {
          "base_uri": "https://localhost:8080/"
        },
        "id": "puQ33qsQn4XA",
        "outputId": "c1855c23-4ea6-443e-aefb-1fc611126470"
      },
      "source": [
        "! git clone https://github.com/ahmetozlu/vehicle_counting_tensorflow"
      ],
      "execution_count": 2,
      "outputs": [
        {
          "output_type": "stream",
          "text": [
            "fatal: destination path 'vehicle_counting_tensorflow' already exists and is not an empty directory.\n"
          ],
          "name": "stdout"
        }
      ]
    },
    {
      "cell_type": "code",
      "metadata": {
        "colab": {
          "base_uri": "https://localhost:8080/"
        },
        "id": "nIB0kFgOoZZc",
        "outputId": "0643efaf-9d33-4d0a-f9f6-b58325af924b"
      },
      "source": [
        "! ls"
      ],
      "execution_count": 3,
      "outputs": [
        {
          "output_type": "stream",
          "text": [
            "Phase_2_Input.mov  sample_data\tvehicle_counting_tensorflow\n"
          ],
          "name": "stdout"
        }
      ]
    },
    {
      "cell_type": "code",
      "metadata": {
        "colab": {
          "base_uri": "https://localhost:8080/"
        },
        "id": "_egn006lofkT",
        "outputId": "4e71877f-466a-4615-ccba-a5255e724055"
      },
      "source": [
        "%cd vehicle_counting_tensorflow"
      ],
      "execution_count": 4,
      "outputs": [
        {
          "output_type": "stream",
          "text": [
            "/content/vehicle_counting_tensorflow\n"
          ],
          "name": "stdout"
        }
      ]
    },
    {
      "cell_type": "code",
      "metadata": {
        "colab": {
          "base_uri": "https://localhost:8080/"
        },
        "id": "0LNMp1hbolKu",
        "outputId": "4a77de55-6188-4248-d2d3-514481fc3edd"
      },
      "source": [
        "! pwd"
      ],
      "execution_count": 5,
      "outputs": [
        {
          "output_type": "stream",
          "text": [
            "/content/vehicle_counting_tensorflow\n"
          ],
          "name": "stdout"
        }
      ]
    },
    {
      "cell_type": "code",
      "metadata": {
        "colab": {
          "base_uri": "https://localhost:8080/"
        },
        "id": "EBmSWr6ZZEBB",
        "outputId": "5ec2e6e9-e3fa-4917-ba8b-18a64ee65aa1"
      },
      "source": [
        "!python -m pip install tensorflow==1.14"
      ],
      "execution_count": 6,
      "outputs": [
        {
          "output_type": "stream",
          "text": [
            "Requirement already satisfied: tensorflow==1.14 in /usr/local/lib/python3.7/dist-packages (1.14.0)\n",
            "Requirement already satisfied: absl-py>=0.7.0 in /usr/local/lib/python3.7/dist-packages (from tensorflow==1.14) (0.12.0)\n",
            "Requirement already satisfied: six>=1.10.0 in /usr/local/lib/python3.7/dist-packages (from tensorflow==1.14) (1.15.0)\n",
            "Requirement already satisfied: protobuf>=3.6.1 in /usr/local/lib/python3.7/dist-packages (from tensorflow==1.14) (3.17.3)\n",
            "Requirement already satisfied: keras-preprocessing>=1.0.5 in /usr/local/lib/python3.7/dist-packages (from tensorflow==1.14) (1.1.2)\n",
            "Requirement already satisfied: keras-applications>=1.0.6 in /usr/local/lib/python3.7/dist-packages (from tensorflow==1.14) (1.0.8)\n",
            "Requirement already satisfied: wrapt>=1.11.1 in /usr/local/lib/python3.7/dist-packages (from tensorflow==1.14) (1.12.1)\n",
            "Requirement already satisfied: google-pasta>=0.1.6 in /usr/local/lib/python3.7/dist-packages (from tensorflow==1.14) (0.2.0)\n",
            "Requirement already satisfied: numpy<2.0,>=1.14.5 in /usr/local/lib/python3.7/dist-packages (from tensorflow==1.14) (1.19.5)\n",
            "Requirement already satisfied: tensorboard<1.15.0,>=1.14.0 in /usr/local/lib/python3.7/dist-packages (from tensorflow==1.14) (1.14.0)\n",
            "Requirement already satisfied: termcolor>=1.1.0 in /usr/local/lib/python3.7/dist-packages (from tensorflow==1.14) (1.1.0)\n",
            "Requirement already satisfied: grpcio>=1.8.6 in /usr/local/lib/python3.7/dist-packages (from tensorflow==1.14) (1.34.1)\n",
            "Requirement already satisfied: wheel>=0.26 in /usr/local/lib/python3.7/dist-packages (from tensorflow==1.14) (0.36.2)\n",
            "Requirement already satisfied: astor>=0.6.0 in /usr/local/lib/python3.7/dist-packages (from tensorflow==1.14) (0.8.1)\n",
            "Requirement already satisfied: gast>=0.2.0 in /usr/local/lib/python3.7/dist-packages (from tensorflow==1.14) (0.4.0)\n",
            "Requirement already satisfied: tensorflow-estimator<1.15.0rc0,>=1.14.0rc0 in /usr/local/lib/python3.7/dist-packages (from tensorflow==1.14) (1.14.0)\n",
            "Requirement already satisfied: h5py in /usr/local/lib/python3.7/dist-packages (from keras-applications>=1.0.6->tensorflow==1.14) (3.1.0)\n",
            "Requirement already satisfied: werkzeug>=0.11.15 in /usr/local/lib/python3.7/dist-packages (from tensorboard<1.15.0,>=1.14.0->tensorflow==1.14) (1.0.1)\n",
            "Requirement already satisfied: markdown>=2.6.8 in /usr/local/lib/python3.7/dist-packages (from tensorboard<1.15.0,>=1.14.0->tensorflow==1.14) (3.3.4)\n",
            "Requirement already satisfied: setuptools>=41.0.0 in /usr/local/lib/python3.7/dist-packages (from tensorboard<1.15.0,>=1.14.0->tensorflow==1.14) (57.0.0)\n",
            "Requirement already satisfied: cached-property; python_version < \"3.8\" in /usr/local/lib/python3.7/dist-packages (from h5py->keras-applications>=1.0.6->tensorflow==1.14) (1.5.2)\n",
            "Requirement already satisfied: importlib-metadata; python_version < \"3.8\" in /usr/local/lib/python3.7/dist-packages (from markdown>=2.6.8->tensorboard<1.15.0,>=1.14.0->tensorflow==1.14) (4.6.1)\n",
            "Requirement already satisfied: typing-extensions>=3.6.4; python_version < \"3.8\" in /usr/local/lib/python3.7/dist-packages (from importlib-metadata; python_version < \"3.8\"->markdown>=2.6.8->tensorboard<1.15.0,>=1.14.0->tensorflow==1.14) (3.7.4.3)\n",
            "Requirement already satisfied: zipp>=0.5 in /usr/local/lib/python3.7/dist-packages (from importlib-metadata; python_version < \"3.8\"->markdown>=2.6.8->tensorboard<1.15.0,>=1.14.0->tensorflow==1.14) (3.5.0)\n"
          ],
          "name": "stdout"
        }
      ]
    },
    {
      "cell_type": "code",
      "metadata": {
        "colab": {
          "base_uri": "https://localhost:8080/"
        },
        "id": "bERNrt7SqW16",
        "outputId": "896cb0df-a103-4d78-866a-d1e335b0a7dc"
      },
      "source": [
        "# import tensorflow.compat.v1 as tf\n",
        "# tf.disable_v2_behavior()\n",
        "import tensorflow as tf\n",
        "\n",
        "!ls\n",
        "!pwd\n",
        "\n"
      ],
      "execution_count": 7,
      "outputs": [
        {
          "output_type": "stream",
          "text": [
            "/usr/local/lib/python3.7/dist-packages/tensorflow/python/framework/dtypes.py:516: FutureWarning: Passing (type, 1) or '1type' as a synonym of type is deprecated; in a future version of numpy, it will be understood as (type, (1,)) / '(1,)type'.\n",
            "  _np_qint8 = np.dtype([(\"qint8\", np.int8, 1)])\n",
            "/usr/local/lib/python3.7/dist-packages/tensorflow/python/framework/dtypes.py:517: FutureWarning: Passing (type, 1) or '1type' as a synonym of type is deprecated; in a future version of numpy, it will be understood as (type, (1,)) / '(1,)type'.\n",
            "  _np_quint8 = np.dtype([(\"quint8\", np.uint8, 1)])\n",
            "/usr/local/lib/python3.7/dist-packages/tensorflow/python/framework/dtypes.py:518: FutureWarning: Passing (type, 1) or '1type' as a synonym of type is deprecated; in a future version of numpy, it will be understood as (type, (1,)) / '(1,)type'.\n",
            "  _np_qint16 = np.dtype([(\"qint16\", np.int16, 1)])\n",
            "/usr/local/lib/python3.7/dist-packages/tensorflow/python/framework/dtypes.py:519: FutureWarning: Passing (type, 1) or '1type' as a synonym of type is deprecated; in a future version of numpy, it will be understood as (type, (1,)) / '(1,)type'.\n",
            "  _np_quint16 = np.dtype([(\"quint16\", np.uint16, 1)])\n",
            "/usr/local/lib/python3.7/dist-packages/tensorflow/python/framework/dtypes.py:520: FutureWarning: Passing (type, 1) or '1type' as a synonym of type is deprecated; in a future version of numpy, it will be understood as (type, (1,)) / '(1,)type'.\n",
            "  _np_qint32 = np.dtype([(\"qint32\", np.int32, 1)])\n",
            "/usr/local/lib/python3.7/dist-packages/tensorflow/python/framework/dtypes.py:525: FutureWarning: Passing (type, 1) or '1type' as a synonym of type is deprecated; in a future version of numpy, it will be understood as (type, (1,)) / '(1,)type'.\n",
            "  np_resource = np.dtype([(\"resource\", np.ubyte, 1)])\n"
          ],
          "name": "stderr"
        },
        {
          "output_type": "stream",
          "text": [
            " data\t\t\t     protos\n",
            " detected_vehicles\t     README.md\n",
            "'detected_vehicles (copy)'   requirements.txt\n",
            " docker-compose.yml\t     ssd_mobilenet_v1_coco_2018_01_28\n",
            " Dockerfile\t\t     traffic_measurement.csv\n",
            " input_video.mp4\t     utils\n",
            " input_video_output.avi      vehicle_counting_tensorflow\n",
            " LICENSE\t\t     vehicle_detection_main.py\n",
            " _output.avi\n"
          ],
          "name": "stdout"
        },
        {
          "output_type": "stream",
          "text": [
            "/usr/local/lib/python3.7/dist-packages/tensorboard/compat/tensorflow_stub/dtypes.py:541: FutureWarning: Passing (type, 1) or '1type' as a synonym of type is deprecated; in a future version of numpy, it will be understood as (type, (1,)) / '(1,)type'.\n",
            "  _np_qint8 = np.dtype([(\"qint8\", np.int8, 1)])\n",
            "/usr/local/lib/python3.7/dist-packages/tensorboard/compat/tensorflow_stub/dtypes.py:542: FutureWarning: Passing (type, 1) or '1type' as a synonym of type is deprecated; in a future version of numpy, it will be understood as (type, (1,)) / '(1,)type'.\n",
            "  _np_quint8 = np.dtype([(\"quint8\", np.uint8, 1)])\n",
            "/usr/local/lib/python3.7/dist-packages/tensorboard/compat/tensorflow_stub/dtypes.py:543: FutureWarning: Passing (type, 1) or '1type' as a synonym of type is deprecated; in a future version of numpy, it will be understood as (type, (1,)) / '(1,)type'.\n",
            "  _np_qint16 = np.dtype([(\"qint16\", np.int16, 1)])\n",
            "/usr/local/lib/python3.7/dist-packages/tensorboard/compat/tensorflow_stub/dtypes.py:544: FutureWarning: Passing (type, 1) or '1type' as a synonym of type is deprecated; in a future version of numpy, it will be understood as (type, (1,)) / '(1,)type'.\n",
            "  _np_quint16 = np.dtype([(\"quint16\", np.uint16, 1)])\n",
            "/usr/local/lib/python3.7/dist-packages/tensorboard/compat/tensorflow_stub/dtypes.py:545: FutureWarning: Passing (type, 1) or '1type' as a synonym of type is deprecated; in a future version of numpy, it will be understood as (type, (1,)) / '(1,)type'.\n",
            "  _np_qint32 = np.dtype([(\"qint32\", np.int32, 1)])\n",
            "/usr/local/lib/python3.7/dist-packages/tensorboard/compat/tensorflow_stub/dtypes.py:550: FutureWarning: Passing (type, 1) or '1type' as a synonym of type is deprecated; in a future version of numpy, it will be understood as (type, (1,)) / '(1,)type'.\n",
            "  np_resource = np.dtype([(\"resource\", np.ubyte, 1)])\n"
          ],
          "name": "stderr"
        },
        {
          "output_type": "stream",
          "text": [
            "/content/vehicle_counting_tensorflow\n"
          ],
          "name": "stdout"
        }
      ]
    },
    {
      "cell_type": "code",
      "metadata": {
        "id": "ZlUk1FWBouNC"
      },
      "source": [
        "#!python  vehicle_detection_main.py Phase_2_Input.mov"
      ],
      "execution_count": null,
      "outputs": []
    },
    {
      "cell_type": "code",
      "metadata": {
        "colab": {
          "base_uri": "https://localhost:8080/"
        },
        "id": "wr1paONxmE4q",
        "outputId": "d361f96d-d0c1-4fc1-fc80-5544ead98c4a"
      },
      "source": [
        "! python3 vehicle_detection_main.py imwrite"
      ],
      "execution_count": 8,
      "outputs": [
        {
          "output_type": "stream",
          "text": [
            "/usr/local/lib/python3.7/dist-packages/tensorflow/python/framework/dtypes.py:516: FutureWarning: Passing (type, 1) or '1type' as a synonym of type is deprecated; in a future version of numpy, it will be understood as (type, (1,)) / '(1,)type'.\n",
            "  _np_qint8 = np.dtype([(\"qint8\", np.int8, 1)])\n",
            "/usr/local/lib/python3.7/dist-packages/tensorflow/python/framework/dtypes.py:517: FutureWarning: Passing (type, 1) or '1type' as a synonym of type is deprecated; in a future version of numpy, it will be understood as (type, (1,)) / '(1,)type'.\n",
            "  _np_quint8 = np.dtype([(\"quint8\", np.uint8, 1)])\n",
            "/usr/local/lib/python3.7/dist-packages/tensorflow/python/framework/dtypes.py:518: FutureWarning: Passing (type, 1) or '1type' as a synonym of type is deprecated; in a future version of numpy, it will be understood as (type, (1,)) / '(1,)type'.\n",
            "  _np_qint16 = np.dtype([(\"qint16\", np.int16, 1)])\n",
            "/usr/local/lib/python3.7/dist-packages/tensorflow/python/framework/dtypes.py:519: FutureWarning: Passing (type, 1) or '1type' as a synonym of type is deprecated; in a future version of numpy, it will be understood as (type, (1,)) / '(1,)type'.\n",
            "  _np_quint16 = np.dtype([(\"quint16\", np.uint16, 1)])\n",
            "/usr/local/lib/python3.7/dist-packages/tensorflow/python/framework/dtypes.py:520: FutureWarning: Passing (type, 1) or '1type' as a synonym of type is deprecated; in a future version of numpy, it will be understood as (type, (1,)) / '(1,)type'.\n",
            "  _np_qint32 = np.dtype([(\"qint32\", np.int32, 1)])\n",
            "/usr/local/lib/python3.7/dist-packages/tensorflow/python/framework/dtypes.py:525: FutureWarning: Passing (type, 1) or '1type' as a synonym of type is deprecated; in a future version of numpy, it will be understood as (type, (1,)) / '(1,)type'.\n",
            "  np_resource = np.dtype([(\"resource\", np.ubyte, 1)])\n",
            "/usr/local/lib/python3.7/dist-packages/tensorboard/compat/tensorflow_stub/dtypes.py:541: FutureWarning: Passing (type, 1) or '1type' as a synonym of type is deprecated; in a future version of numpy, it will be understood as (type, (1,)) / '(1,)type'.\n",
            "  _np_qint8 = np.dtype([(\"qint8\", np.int8, 1)])\n",
            "/usr/local/lib/python3.7/dist-packages/tensorboard/compat/tensorflow_stub/dtypes.py:542: FutureWarning: Passing (type, 1) or '1type' as a synonym of type is deprecated; in a future version of numpy, it will be understood as (type, (1,)) / '(1,)type'.\n",
            "  _np_quint8 = np.dtype([(\"quint8\", np.uint8, 1)])\n",
            "/usr/local/lib/python3.7/dist-packages/tensorboard/compat/tensorflow_stub/dtypes.py:543: FutureWarning: Passing (type, 1) or '1type' as a synonym of type is deprecated; in a future version of numpy, it will be understood as (type, (1,)) / '(1,)type'.\n",
            "  _np_qint16 = np.dtype([(\"qint16\", np.int16, 1)])\n",
            "/usr/local/lib/python3.7/dist-packages/tensorboard/compat/tensorflow_stub/dtypes.py:544: FutureWarning: Passing (type, 1) or '1type' as a synonym of type is deprecated; in a future version of numpy, it will be understood as (type, (1,)) / '(1,)type'.\n",
            "  _np_quint16 = np.dtype([(\"quint16\", np.uint16, 1)])\n",
            "/usr/local/lib/python3.7/dist-packages/tensorboard/compat/tensorflow_stub/dtypes.py:545: FutureWarning: Passing (type, 1) or '1type' as a synonym of type is deprecated; in a future version of numpy, it will be understood as (type, (1,)) / '(1,)type'.\n",
            "  _np_qint32 = np.dtype([(\"qint32\", np.int32, 1)])\n",
            "/usr/local/lib/python3.7/dist-packages/tensorboard/compat/tensorflow_stub/dtypes.py:550: FutureWarning: Passing (type, 1) or '1type' as a synonym of type is deprecated; in a future version of numpy, it will be understood as (type, (1,)) / '(1,)type'.\n",
            "  np_resource = np.dtype([(\"resource\", np.ubyte, 1)])\n",
            "True\n",
            "WARNING:tensorflow:From vehicle_detection_main.py:77: The name tf.GraphDef is deprecated. Please use tf.compat.v1.GraphDef instead.\n",
            "\n",
            "WARNING:tensorflow:From vehicle_detection_main.py:78: The name tf.gfile.GFile is deprecated. Please use tf.io.gfile.GFile instead.\n",
            "\n",
            "../Phase_2_Input_output.avi\n",
            "WARNING:tensorflow:From vehicle_detection_main.py:113: The name tf.Session is deprecated. Please use tf.compat.v1.Session instead.\n",
            "\n",
            "2021-07-16 14:32:33.792175: I tensorflow/core/platform/cpu_feature_guard.cc:142] Your CPU supports instructions that this TensorFlow binary was not compiled to use: AVX2 AVX512F FMA\n",
            "2021-07-16 14:32:33.795097: I tensorflow/core/platform/profile_utils/cpu_utils.cc:94] CPU Frequency: 2000120000 Hz\n",
            "2021-07-16 14:32:33.795298: I tensorflow/compiler/xla/service/service.cc:168] XLA service 0x55a5322ddd40 executing computations on platform Host. Devices:\n",
            "2021-07-16 14:32:33.795328: I tensorflow/compiler/xla/service/service.cc:175]   StreamExecutor device (0): <undefined>, <undefined>\n",
            "  0% 0/827 [00:00<?, ?it/s]2021-07-16 14:32:36.131704: W tensorflow/compiler/jit/mark_for_compilation_pass.cc:1412] (One-time warning): Not using XLA:CPU for cluster because envvar TF_XLA_FLAGS=--tf_xla_cpu_global_jit was not set.  If you want XLA:CPU, either set that envvar, or use experimental_jit_scope to enable XLA:CPU.  To confirm that XLA is active, pass --vmodule=xla_compilation_cache=1 (as a proper command-line flag, not via TF_XLA_FLAGS) or set the envvar XLA_FLAGS=--xla_hlo_profile.\n",
            "100% 824/827 [01:52<00:00,  7.16it/s]end of the video file...\n",
            "100% 824/827 [01:53<00:00,  7.29it/s]\n"
          ],
          "name": "stdout"
        }
      ]
    },
    {
      "cell_type": "code",
      "metadata": {
        "colab": {
          "base_uri": "https://localhost:8080/"
        },
        "id": "F5GJotxOZbtj",
        "outputId": "5584a9af-f752-4f38-fa72-a2c337ad79e2"
      },
      "source": [
        "!ls"
      ],
      "execution_count": 9,
      "outputs": [
        {
          "output_type": "stream",
          "text": [
            " data\t\t\t     protos\n",
            " detected_vehicles\t     README.md\n",
            "'detected_vehicles (copy)'   requirements.txt\n",
            " docker-compose.yml\t     ssd_mobilenet_v1_coco_2018_01_28\n",
            " Dockerfile\t\t     traffic_measurement.csv\n",
            " input_video.mp4\t     utils\n",
            " input_video_output.avi      vehicle_counting_tensorflow\n",
            " LICENSE\t\t     vehicle_detection_main.py\n",
            " _output.avi\n"
          ],
          "name": "stdout"
        }
      ]
    },
    {
      "cell_type": "code",
      "metadata": {
        "id": "NDUuzRG8a5M1"
      },
      "source": [
        "#python3 vehicle_detection_main.py imwrite"
      ],
      "execution_count": null,
      "outputs": []
    },
    {
      "cell_type": "code",
      "metadata": {
        "id": "321D8quPtEzb"
      },
      "source": [
        "#!/usr/bin/python\n",
        "# -*- coding: utf-8 -*-\n",
        "# ----------------------------------------------\n",
        "# --- Author         : Ahmet Ozlu\n",
        "# --- Mail           : ahmetozlu93@gmail.com\n",
        "# --- Date           : 27th January 2018\n",
        "# ----------------------------------------------\n",
        "\n",
        "#############################################################################################\n",
        "# command to run the program and show the output: python3 vehicle_detection_main.py imshow  #\n",
        "# command to run the program and save the output: python3 vehicle_detection_main.py imwrite #\n",
        "#############################################################################################\n",
        "\n",
        "# \n",
        "from tqdm import tqdm\n",
        "import numpy as np\n",
        "import os\n",
        "import six.moves.urllib as urllib\n",
        "import sys\n",
        "import tarfile\n",
        "import tensorflow as tf\n",
        "import zipfile\n",
        "import cv2\n",
        "import numpy as np\n",
        "import csv\n",
        "import time\n",
        "from packaging import version\n",
        "\n",
        "from collections import defaultdict\n",
        "from io import StringIO\n",
        "from PIL import Image\n",
        "\n",
        "# Object detection imports\n",
        "from utils import label_map_util\n",
        "from utils import visualization_utils as vis_util\n",
        "\n",
        "# initialize .csv\n",
        "with open('traffic_measurement.csv', 'w') as f:\n",
        "    writer = csv.writer(f)\n",
        "    csv_line = \\\n",
        "        'Vehicle Type/Size, Vehicle Color, Vehicle Movement Direction, Vehicle Speed (km/h)'\n",
        "    writer.writerows([csv_line.split(',')])\n",
        "\n",
        "# input video\n",
        "source_video = '../Phase_2_Input.mov'\n",
        "cap = cv2.VideoCapture(source_video)\n",
        "print(cap.isOpened())\n",
        "\n",
        "\n",
        "# Variables\n",
        "height = int(cap.get(cv2.CAP_PROP_FRAME_HEIGHT))\n",
        "width = int(cap.get(cv2.CAP_PROP_FRAME_WIDTH))\n",
        "fps = int(cap.get(cv2.CAP_PROP_FPS))\n",
        "num_frames = int(cap.get(cv2.CAP_PROP_FRAME_COUNT))\n",
        "\n",
        "total_passed_vehicle = 0  # using it to count vehicles\n",
        "\n",
        "# By default I use an \"SSD with Mobilenet\" model here. See the detection model zoo (https://github.com/tensorflow/models/blob/master/research/object_detection/g3doc/detection_model_zoo.md) for a list of other models that can be run out-of-the-box with varying speeds and accuracies.\n",
        "# What model to download.\n",
        "MODEL_NAME = 'ssd_mobilenet_v1_coco_2018_01_28'\n",
        "MODEL_FILE = MODEL_NAME + '.tar.gz'\n",
        "DOWNLOAD_BASE = \\\n",
        "    'http://download.tensorflow.org/models/object_detection/'\n",
        "\n",
        "# Path to frozen detection graph. This is the actual model that is used for the object detection.\n",
        "PATH_TO_CKPT = MODEL_NAME + '/frozen_inference_graph.pb'\n",
        "\n",
        "# List of the strings that is used to add correct label for each box.\n",
        "PATH_TO_LABELS = os.path.join('data', 'mscoco_label_map.pbtxt')\n",
        "\n",
        "NUM_CLASSES = 90\n",
        "\n",
        "# Download Model\n",
        "# uncomment if you have not download the model yet\n",
        "# Load a (frozen) Tensorflow model into memory.\n",
        "detection_graph = tf.Graph()\n",
        "with detection_graph.as_default():\n",
        "    od_graph_def = tf.GraphDef()\n",
        "    with tf.gfile.GFile(PATH_TO_CKPT, 'rb') as fid:\n",
        "    #od_graph_def = tf.compat.v1.GraphDef() # use this line to run it with TensorFlow version 2.x\n",
        "    #with tf.compat.v2.io.gfile.GFile(PATH_TO_CKPT, 'rb') as fid: # use this line to run it with TensorFlow version 2.x\n",
        "        serialized_graph = fid.read()\n",
        "        od_graph_def.ParseFromString(serialized_graph)\n",
        "        tf.import_graph_def(od_graph_def, name='')\n",
        "\n",
        "# Loading label map\n",
        "# Label maps map indices to category names, so that when our convolution network predicts 5, we know that this corresponds to airplane. Here I use internal utility functions, but anything that returns a dictionary mapping integers to appropriate string labels would be fine\n",
        "label_map = label_map_util.load_labelmap(PATH_TO_LABELS)\n",
        "categories = label_map_util.convert_label_map_to_categories(label_map,\n",
        "        max_num_classes=NUM_CLASSES, use_display_name=True)\n",
        "category_index = label_map_util.create_category_index(categories)\n",
        "\n",
        "\n",
        "# Helper code\n",
        "def load_image_into_numpy_array(image):\n",
        "    (im_width, im_height) = image.size\n",
        "    return np.array(image.getdata()).reshape((im_height, im_width,\n",
        "            3)).astype(np.uint8)\n",
        "\n",
        "\n",
        "# Detection\n",
        "def object_detection_function(command):\n",
        "    total_passed_vehicle = 0\n",
        "    speed = 'waiting...'\n",
        "    direction = 'waiting...'\n",
        "    size = 'waiting...'\n",
        "    color = 'waiting...'\n",
        "\n",
        "    if(command==\"imwrite\"):\n",
        "        fourcc = cv2.VideoWriter_fourcc(*'XVID')\n",
        "        output_movie = cv2.VideoWriter(source_video.split(\".\")[0]+'_output.avi', fourcc, fps, (width, height))\n",
        "\n",
        "    with detection_graph.as_default():\n",
        "        with tf.Session(graph=detection_graph) as sess:\n",
        "        #with tf.compat.v1.Session(graph=detection_graph) as sess: # use this line to run it with TensorFlow version 2.x\n",
        "\n",
        "            # Definite input and output Tensors for detection_graph\n",
        "            image_tensor = detection_graph.get_tensor_by_name('image_tensor:0')\n",
        "\n",
        "            # Each box represents a part of the image where a particular object was detected.\n",
        "            detection_boxes = detection_graph.get_tensor_by_name('detection_boxes:0')\n",
        "\n",
        "            # Each score represent how level of confidence for each of the objects.\n",
        "            # Score is shown on the result image, together with the class label.\n",
        "            detection_scores = detection_graph.get_tensor_by_name('detection_scores:0')\n",
        "            detection_classes = detection_graph.get_tensor_by_name('detection_classes:0')\n",
        "            num_detections = detection_graph.get_tensor_by_name('num_detections:0')\n",
        "            \n",
        "            #for all the frames that are extracted from input video\n",
        "            for _ in tdqm(range(num_frames)):\n",
        "              (ret, frame) = cap.read()\n",
        "\n",
        "              if not ret:\n",
        "                print ('end of the video file...')\n",
        "                break\n",
        "\n",
        "              input_frame = frame \n",
        "              \n",
        "            \n",
        "            # while cap.isOpened():\n",
        "            #     (ret, frame) = cap.read()\n",
        "\n",
        "            #     if not ret:\n",
        "            #         print ('end of the video file...')\n",
        "            #         break\n",
        "\n",
        "            #     input_frame = frame\n",
        "\n",
        "                # Expand dimensions since the model expects images to have shape: [1, None, None, 3]\n",
        "                image_np_expanded = np.expand_dims(input_frame, axis=0)\n",
        "\n",
        "                # Actual detection.\n",
        "                (boxes, scores, classes, num) = \\\n",
        "                    sess.run([detection_boxes, detection_scores,\n",
        "                             detection_classes, num_detections],\n",
        "                             feed_dict={image_tensor: image_np_expanded})\n",
        "\n",
        "                # Visualization of the results of a detection.\n",
        "                (counter, csv_line) = \\\n",
        "                    vis_util.visualize_boxes_and_labels_on_image_array(\n",
        "                    cap.get(1),\n",
        "                    input_frame,\n",
        "                    np.squeeze(boxes),\n",
        "                    np.squeeze(classes).astype(np.int32),\n",
        "                    np.squeeze(scores),\n",
        "                    category_index,\n",
        "                    use_normalized_coordinates=True,\n",
        "                    line_thickness=4,\n",
        "                    )\n",
        "\n",
        "                total_passed_vehicle = total_passed_vehicle + counter\n",
        "\n",
        "                # insert information text to video frame\n",
        "                font = cv2.FONT_HERSHEY_SIMPLEX\n",
        "                cv2.putText(\n",
        "                    input_frame,\n",
        "                    'Detected Vehicles: ' + str(total_passed_vehicle),\n",
        "                    (10, 35),\n",
        "                    font,\n",
        "                    0.8,\n",
        "                    (0, 0xFF, 0xFF),\n",
        "                    2,\n",
        "                    cv2.FONT_HERSHEY_SIMPLEX,\n",
        "                    )\n",
        "\n",
        "                # when the vehicle passed over line and counted, make the color of ROI line green\n",
        "                if counter == 1:\n",
        "                    cv2.line(input_frame, (0, 200), (640, 200), (0, 0xFF, 0), 5)\n",
        "                else:\n",
        "                    cv2.line(input_frame, (0, 200), (640, 200), (0, 0, 0xFF), 5)\n",
        "\n",
        "                # insert information text to video frame\n",
        "                cv2.rectangle(input_frame, (10, 275), (230, 337), (180, 132, 109), -1)\n",
        "                cv2.putText(\n",
        "                    input_frame,\n",
        "                    'ROI Line',\n",
        "                    (545, 190),\n",
        "                    font,\n",
        "                    0.6,\n",
        "                    (0, 0, 0xFF),\n",
        "                    2,\n",
        "                    cv2.LINE_AA,\n",
        "                    )\n",
        "                cv2.putText(\n",
        "                    input_frame,\n",
        "                    'LAST PASSED VEHICLE INFO',\n",
        "                    (11, 290),\n",
        "                    font,\n",
        "                    0.5,\n",
        "                    (0xFF, 0xFF, 0xFF),\n",
        "                    1,\n",
        "                    cv2.FONT_HERSHEY_SIMPLEX,\n",
        "                    )\n",
        "                cv2.putText(\n",
        "                    input_frame,\n",
        "                    '-Movement Direction: ' + direction,\n",
        "                    (14, 302),\n",
        "                    font,\n",
        "                    0.4,\n",
        "                    (0xFF, 0xFF, 0xFF),\n",
        "                    1,\n",
        "                    cv2.FONT_HERSHEY_COMPLEX_SMALL,\n",
        "                    )\n",
        "                cv2.putText(\n",
        "                    input_frame,\n",
        "                    '-Speed(km/h): ' + str(speed).split(\".\")[0],\n",
        "                    (14, 312),\n",
        "                    font,\n",
        "                    0.4,\n",
        "                    (0xFF, 0xFF, 0xFF),\n",
        "                    1,\n",
        "                    cv2.FONT_HERSHEY_COMPLEX_SMALL,\n",
        "                    )\n",
        "                cv2.putText(\n",
        "                    input_frame,\n",
        "                    '-Color: ' + color,\n",
        "                    (14, 322),\n",
        "                    font,\n",
        "                    0.4,\n",
        "                    (0xFF, 0xFF, 0xFF),\n",
        "                    1,\n",
        "                    cv2.FONT_HERSHEY_COMPLEX_SMALL,\n",
        "                    )\n",
        "                cv2.putText(\n",
        "                    input_frame,\n",
        "                    '-Vehicle Size/Type: ' + size,\n",
        "                    (14, 332),\n",
        "                    font,\n",
        "                    0.4,\n",
        "                    (0xFF, 0xFF, 0xFF),\n",
        "                    1,\n",
        "                    cv2.FONT_HERSHEY_COMPLEX_SMALL,\n",
        "                    )\n",
        "\n",
        "                if(command==\"imshow\"):\n",
        "                    cv2.imshow('vehicle detection', input_frame)\n",
        "\n",
        "                    if cv2.waitKey(1) & 0xFF == ord('q'):\n",
        "                        break\n",
        "                elif(command==\"imwrite\"):\n",
        "                    output_movie.write(input_frame)\n",
        "                    print(\"writing frame...\")\n",
        "\n",
        "                if csv_line != 'not_available':\n",
        "                    with open('traffic_measurement.csv', 'a') as f:\n",
        "                        writer = csv.writer(f)\n",
        "                        (size, color, direction, speed) = \\\n",
        "                            csv_line.split(',')\n",
        "                        writer.writerows([csv_line.split(',')])\n",
        "            cap.release()\n",
        "            cv2.destroyAllWindows()\n",
        "\n",
        "\n",
        "import argparse\n",
        "# Parse command line arguments\n",
        "parser = argparse.ArgumentParser(description='Vehicle Detection TensorFlow.')\n",
        "parser.add_argument(\"command\",\n",
        "                    metavar=\"<command>\",\n",
        "                    help=\"'imshow' or 'imwrite'\")\n",
        "args = parser.parse_args()\n",
        "object_detection_function(args.command)\n",
        "object_detection_function(args.command)\t\t\n"
      ],
      "execution_count": null,
      "outputs": []
    }
  ]
}